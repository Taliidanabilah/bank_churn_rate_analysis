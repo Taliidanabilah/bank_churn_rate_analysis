{
 "cells": [
  {
   "cell_type": "code",
   "execution_count": null,
   "metadata": {},
   "outputs": [],
   "source": [
    "'''\n",
    "    =================================================\n",
    "    Milestone 1\n",
    "\n",
    "    Nama  : Taliida Nabilah K. \n",
    "    Batch : HCK - 013\n",
    "    \n",
    "    Evaluate Next Quarter Business Strategy by Analyzing Bank Customer Churn Cases from Last Quartal \n",
    "    =================================================\n",
    "'''"
   ]
  },
  {
   "cell_type": "markdown",
   "metadata": {},
   "source": [
    "Link Dashboard : https://public.tableau.com/app/profile/taliida.nabilah/viz/BanksCustomerChurnAnalysis/Dashboard2"
   ]
  },
  {
   "cell_type": "markdown",
   "metadata": {},
   "source": [
    "**1. PROBLEM IDENTIFICATION**"
   ]
  },
  {
   "cell_type": "markdown",
   "metadata": {},
   "source": [
    "\n",
    "**Topic : Evaluate Next Quarter Business Strategy by Analyzing Bank Customer Churn Cases from Last Quartal**\n",
    "\n"
   ]
  },
  {
   "cell_type": "markdown",
   "metadata": {},
   "source": [
    "**Background : I am a Data Analyst for a bank that facing the increasement of churn customer number from the last quartal. The Bank wants to evaluate and makes data driven strategy for the next quartal and reducing the number of churned customer. I required to give insights based on customer churn reports from last quartal in order to decrease its number.** \n"
   ]
  },
  {
   "cell_type": "markdown",
   "metadata": {},
   "source": [
    "**SMART ANALYSIS**\n",
    "\n",
    "**Specific :** Participating in important role to create the bank's next quarter strategy making where the goal is decreasing the bank's customer churn number from the last quarter customer churn reports. \n",
    "\n",
    "**Measurement :** establish measureable metrics to track progress and sucess by this case in decreasing the churn rate number to 10%\n",
    "\n",
    "**Achieveable :** Analyze relevant data of customer churn number form the last quarter reports and making insight that could be utilized for the next quarter business strategy\n",
    "\n",
    "**Relevant :** Making sure that the insight could give impact and relevant to the Bank's situation and possible to implemet\n",
    "\n",
    "**Time-bound :** Creating the insights from the analysis in 1 week and make sure that are ready to implement within 3 weeks ahead. Making this project is ready to implemented within 1 month in total\n",
    "\n",
    "\n",
    "**Problem Statement : Participating as data analyst to create the bank's next quarter strategy by analyze and create insights based on customer churn reports from the last quarter in order to decrease 10% the customer's churn rate number within 1 week and 1 month in total for implementation.**"
   ]
  },
  {
   "cell_type": "markdown",
   "metadata": {},
   "source": [
    "**Breakdown the Problem by 5W + 1 H Methods**\n",
    "\n",
    "**Who:** \n",
    " Who is the customer of the Bank that has churned (Based on Gender, Age, Income,Residence )\n",
    "\n",
    "**What :** \n",
    " What is characteristic of the customer who has churn tendency? \n",
    "\n",
    "**When :** (data visualization)\n",
    " When is the customer usually has churn tendency based on the tenure on the bank?\n",
    "\n",
    "**Where :** (data visualization)\n",
    "Where is the country that has most churn numbers?\n",
    "\n",
    "**Why :** (inferernsial)\n",
    "Why people has churn tendency? (Could make assumption and hipotesis by finding the correlation between variables : creditscore,balance, number of products, has Credit Card, Active Member)\n",
    " \n",
    "**How :** (data visualization)\n",
    "How many customer that hasn't churned (based on Gender, Age, Income,Residence) to retain?\n",
    "\n"
   ]
  },
  {
   "cell_type": "markdown",
   "metadata": {},
   "source": [
    "**2. DATA LOADING**"
   ]
  },
  {
   "cell_type": "code",
   "execution_count": 3,
   "metadata": {},
   "outputs": [],
   "source": [
    "#import pandas\n",
    "import pandas as pd "
   ]
  },
  {
   "cell_type": "code",
   "execution_count": 4,
   "metadata": {},
   "outputs": [
    {
     "data": {
      "text/html": [
       "<div>\n",
       "<style scoped>\n",
       "    .dataframe tbody tr th:only-of-type {\n",
       "        vertical-align: middle;\n",
       "    }\n",
       "\n",
       "    .dataframe tbody tr th {\n",
       "        vertical-align: top;\n",
       "    }\n",
       "\n",
       "    .dataframe thead th {\n",
       "        text-align: right;\n",
       "    }\n",
       "</style>\n",
       "<table border=\"1\" class=\"dataframe\">\n",
       "  <thead>\n",
       "    <tr style=\"text-align: right;\">\n",
       "      <th></th>\n",
       "      <th>RowNumber</th>\n",
       "      <th>CustomerId</th>\n",
       "      <th>Surname</th>\n",
       "      <th>CreditScore</th>\n",
       "      <th>Geography</th>\n",
       "      <th>Gender</th>\n",
       "      <th>Age</th>\n",
       "      <th>Tenure</th>\n",
       "      <th>Balance</th>\n",
       "      <th>NumOfProducts</th>\n",
       "      <th>HasCrCard</th>\n",
       "      <th>IsActiveMember</th>\n",
       "      <th>EstimatedSalary</th>\n",
       "      <th>Exited</th>\n",
       "    </tr>\n",
       "  </thead>\n",
       "  <tbody>\n",
       "    <tr>\n",
       "      <th>0</th>\n",
       "      <td>1</td>\n",
       "      <td>15634602</td>\n",
       "      <td>Hargrave</td>\n",
       "      <td>619</td>\n",
       "      <td>France</td>\n",
       "      <td>Female</td>\n",
       "      <td>42.0</td>\n",
       "      <td>2</td>\n",
       "      <td>0.00</td>\n",
       "      <td>1</td>\n",
       "      <td>1.0</td>\n",
       "      <td>1.0</td>\n",
       "      <td>101348.88</td>\n",
       "      <td>1</td>\n",
       "    </tr>\n",
       "    <tr>\n",
       "      <th>1</th>\n",
       "      <td>2</td>\n",
       "      <td>15647311</td>\n",
       "      <td>Hill</td>\n",
       "      <td>608</td>\n",
       "      <td>Spain</td>\n",
       "      <td>Female</td>\n",
       "      <td>41.0</td>\n",
       "      <td>1</td>\n",
       "      <td>83807.86</td>\n",
       "      <td>1</td>\n",
       "      <td>0.0</td>\n",
       "      <td>1.0</td>\n",
       "      <td>112542.58</td>\n",
       "      <td>0</td>\n",
       "    </tr>\n",
       "    <tr>\n",
       "      <th>2</th>\n",
       "      <td>3</td>\n",
       "      <td>15619304</td>\n",
       "      <td>Onio</td>\n",
       "      <td>502</td>\n",
       "      <td>France</td>\n",
       "      <td>Female</td>\n",
       "      <td>42.0</td>\n",
       "      <td>8</td>\n",
       "      <td>159660.80</td>\n",
       "      <td>3</td>\n",
       "      <td>1.0</td>\n",
       "      <td>0.0</td>\n",
       "      <td>113931.57</td>\n",
       "      <td>1</td>\n",
       "    </tr>\n",
       "    <tr>\n",
       "      <th>3</th>\n",
       "      <td>4</td>\n",
       "      <td>15701354</td>\n",
       "      <td>Boni</td>\n",
       "      <td>699</td>\n",
       "      <td>France</td>\n",
       "      <td>Female</td>\n",
       "      <td>39.0</td>\n",
       "      <td>1</td>\n",
       "      <td>0.00</td>\n",
       "      <td>2</td>\n",
       "      <td>0.0</td>\n",
       "      <td>0.0</td>\n",
       "      <td>93826.63</td>\n",
       "      <td>0</td>\n",
       "    </tr>\n",
       "    <tr>\n",
       "      <th>4</th>\n",
       "      <td>5</td>\n",
       "      <td>15737888</td>\n",
       "      <td>Mitchell</td>\n",
       "      <td>850</td>\n",
       "      <td>Spain</td>\n",
       "      <td>Female</td>\n",
       "      <td>43.0</td>\n",
       "      <td>2</td>\n",
       "      <td>125510.82</td>\n",
       "      <td>1</td>\n",
       "      <td>NaN</td>\n",
       "      <td>1.0</td>\n",
       "      <td>79084.10</td>\n",
       "      <td>0</td>\n",
       "    </tr>\n",
       "    <tr>\n",
       "      <th>...</th>\n",
       "      <td>...</td>\n",
       "      <td>...</td>\n",
       "      <td>...</td>\n",
       "      <td>...</td>\n",
       "      <td>...</td>\n",
       "      <td>...</td>\n",
       "      <td>...</td>\n",
       "      <td>...</td>\n",
       "      <td>...</td>\n",
       "      <td>...</td>\n",
       "      <td>...</td>\n",
       "      <td>...</td>\n",
       "      <td>...</td>\n",
       "      <td>...</td>\n",
       "    </tr>\n",
       "    <tr>\n",
       "      <th>9997</th>\n",
       "      <td>9998</td>\n",
       "      <td>15584532</td>\n",
       "      <td>Liu</td>\n",
       "      <td>709</td>\n",
       "      <td>France</td>\n",
       "      <td>Female</td>\n",
       "      <td>36.0</td>\n",
       "      <td>7</td>\n",
       "      <td>0.00</td>\n",
       "      <td>1</td>\n",
       "      <td>0.0</td>\n",
       "      <td>1.0</td>\n",
       "      <td>42085.58</td>\n",
       "      <td>1</td>\n",
       "    </tr>\n",
       "    <tr>\n",
       "      <th>9998</th>\n",
       "      <td>9999</td>\n",
       "      <td>15682355</td>\n",
       "      <td>Sabbatini</td>\n",
       "      <td>772</td>\n",
       "      <td>Germany</td>\n",
       "      <td>Male</td>\n",
       "      <td>42.0</td>\n",
       "      <td>3</td>\n",
       "      <td>75075.31</td>\n",
       "      <td>2</td>\n",
       "      <td>1.0</td>\n",
       "      <td>0.0</td>\n",
       "      <td>92888.52</td>\n",
       "      <td>1</td>\n",
       "    </tr>\n",
       "    <tr>\n",
       "      <th>9999</th>\n",
       "      <td>9999</td>\n",
       "      <td>15682355</td>\n",
       "      <td>Sabbatini</td>\n",
       "      <td>772</td>\n",
       "      <td>Germany</td>\n",
       "      <td>Male</td>\n",
       "      <td>42.0</td>\n",
       "      <td>3</td>\n",
       "      <td>75075.31</td>\n",
       "      <td>2</td>\n",
       "      <td>1.0</td>\n",
       "      <td>0.0</td>\n",
       "      <td>92888.52</td>\n",
       "      <td>1</td>\n",
       "    </tr>\n",
       "    <tr>\n",
       "      <th>10000</th>\n",
       "      <td>10000</td>\n",
       "      <td>15628319</td>\n",
       "      <td>Walker</td>\n",
       "      <td>792</td>\n",
       "      <td>France</td>\n",
       "      <td>Female</td>\n",
       "      <td>28.0</td>\n",
       "      <td>4</td>\n",
       "      <td>130142.79</td>\n",
       "      <td>1</td>\n",
       "      <td>1.0</td>\n",
       "      <td>0.0</td>\n",
       "      <td>38190.78</td>\n",
       "      <td>0</td>\n",
       "    </tr>\n",
       "    <tr>\n",
       "      <th>10001</th>\n",
       "      <td>10000</td>\n",
       "      <td>15628319</td>\n",
       "      <td>Walker</td>\n",
       "      <td>792</td>\n",
       "      <td>France</td>\n",
       "      <td>Female</td>\n",
       "      <td>28.0</td>\n",
       "      <td>4</td>\n",
       "      <td>130142.79</td>\n",
       "      <td>1</td>\n",
       "      <td>1.0</td>\n",
       "      <td>0.0</td>\n",
       "      <td>38190.78</td>\n",
       "      <td>0</td>\n",
       "    </tr>\n",
       "  </tbody>\n",
       "</table>\n",
       "<p>10002 rows × 14 columns</p>\n",
       "</div>"
      ],
      "text/plain": [
       "       RowNumber  CustomerId    Surname  CreditScore Geography  Gender   Age  \\\n",
       "0              1    15634602   Hargrave          619    France  Female  42.0   \n",
       "1              2    15647311       Hill          608     Spain  Female  41.0   \n",
       "2              3    15619304       Onio          502    France  Female  42.0   \n",
       "3              4    15701354       Boni          699    France  Female  39.0   \n",
       "4              5    15737888   Mitchell          850     Spain  Female  43.0   \n",
       "...          ...         ...        ...          ...       ...     ...   ...   \n",
       "9997        9998    15584532        Liu          709    France  Female  36.0   \n",
       "9998        9999    15682355  Sabbatini          772   Germany    Male  42.0   \n",
       "9999        9999    15682355  Sabbatini          772   Germany    Male  42.0   \n",
       "10000      10000    15628319     Walker          792    France  Female  28.0   \n",
       "10001      10000    15628319     Walker          792    France  Female  28.0   \n",
       "\n",
       "       Tenure    Balance  NumOfProducts  HasCrCard  IsActiveMember  \\\n",
       "0           2       0.00              1        1.0             1.0   \n",
       "1           1   83807.86              1        0.0             1.0   \n",
       "2           8  159660.80              3        1.0             0.0   \n",
       "3           1       0.00              2        0.0             0.0   \n",
       "4           2  125510.82              1        NaN             1.0   \n",
       "...       ...        ...            ...        ...             ...   \n",
       "9997        7       0.00              1        0.0             1.0   \n",
       "9998        3   75075.31              2        1.0             0.0   \n",
       "9999        3   75075.31              2        1.0             0.0   \n",
       "10000       4  130142.79              1        1.0             0.0   \n",
       "10001       4  130142.79              1        1.0             0.0   \n",
       "\n",
       "       EstimatedSalary  Exited  \n",
       "0            101348.88       1  \n",
       "1            112542.58       0  \n",
       "2            113931.57       1  \n",
       "3             93826.63       0  \n",
       "4             79084.10       0  \n",
       "...                ...     ...  \n",
       "9997          42085.58       1  \n",
       "9998          92888.52       1  \n",
       "9999          92888.52       1  \n",
       "10000         38190.78       0  \n",
       "10001         38190.78       0  \n",
       "\n",
       "[10002 rows x 14 columns]"
      ]
     },
     "execution_count": 4,
     "metadata": {},
     "output_type": "execute_result"
    }
   ],
   "source": [
    "# Data Loading from csv file\n",
    "data = pd.read_csv(\"Churn_Modelling.csv\")\n",
    "data"
   ]
  },
  {
   "cell_type": "markdown",
   "metadata": {},
   "source": [
    "data source : https://www.kaggle.com/code/carlosalvro/bank-churn-analisys"
   ]
  },
  {
   "cell_type": "markdown",
   "metadata": {},
   "source": [
    "**3. DATA CLEANING**"
   ]
  },
  {
   "cell_type": "code",
   "execution_count": 5,
   "metadata": {},
   "outputs": [],
   "source": [
    "# Make a new copy for data exploration\n",
    "clean_data = data.copy()"
   ]
  },
  {
   "cell_type": "code",
   "execution_count": 6,
   "metadata": {},
   "outputs": [],
   "source": [
    "# Drop row number column and drop duplicated values \n",
    "clean_data = clean_data.drop_duplicates().drop(\"RowNumber\",axis=1)\n"
   ]
  },
  {
   "cell_type": "code",
   "execution_count": 7,
   "metadata": {},
   "outputs": [
    {
     "data": {
      "text/html": [
       "<div>\n",
       "<style scoped>\n",
       "    .dataframe tbody tr th:only-of-type {\n",
       "        vertical-align: middle;\n",
       "    }\n",
       "\n",
       "    .dataframe tbody tr th {\n",
       "        vertical-align: top;\n",
       "    }\n",
       "\n",
       "    .dataframe thead th {\n",
       "        text-align: right;\n",
       "    }\n",
       "</style>\n",
       "<table border=\"1\" class=\"dataframe\">\n",
       "  <thead>\n",
       "    <tr style=\"text-align: right;\">\n",
       "      <th></th>\n",
       "      <th>CustomerId</th>\n",
       "      <th>Surname</th>\n",
       "      <th>CreditScore</th>\n",
       "      <th>Geography</th>\n",
       "      <th>Gender</th>\n",
       "      <th>Age</th>\n",
       "      <th>Tenure</th>\n",
       "      <th>Balance</th>\n",
       "      <th>NumOfProducts</th>\n",
       "      <th>HasCrCard</th>\n",
       "      <th>IsActiveMember</th>\n",
       "      <th>EstimatedSalary</th>\n",
       "      <th>Exited</th>\n",
       "    </tr>\n",
       "  </thead>\n",
       "  <tbody>\n",
       "    <tr>\n",
       "      <th>0</th>\n",
       "      <td>15634602</td>\n",
       "      <td>Hargrave</td>\n",
       "      <td>619</td>\n",
       "      <td>France</td>\n",
       "      <td>Female</td>\n",
       "      <td>42.0</td>\n",
       "      <td>2</td>\n",
       "      <td>0.00</td>\n",
       "      <td>1</td>\n",
       "      <td>1.0</td>\n",
       "      <td>1.0</td>\n",
       "      <td>101348.88</td>\n",
       "      <td>1</td>\n",
       "    </tr>\n",
       "    <tr>\n",
       "      <th>1</th>\n",
       "      <td>15647311</td>\n",
       "      <td>Hill</td>\n",
       "      <td>608</td>\n",
       "      <td>Spain</td>\n",
       "      <td>Female</td>\n",
       "      <td>41.0</td>\n",
       "      <td>1</td>\n",
       "      <td>83807.86</td>\n",
       "      <td>1</td>\n",
       "      <td>0.0</td>\n",
       "      <td>1.0</td>\n",
       "      <td>112542.58</td>\n",
       "      <td>0</td>\n",
       "    </tr>\n",
       "    <tr>\n",
       "      <th>2</th>\n",
       "      <td>15619304</td>\n",
       "      <td>Onio</td>\n",
       "      <td>502</td>\n",
       "      <td>France</td>\n",
       "      <td>Female</td>\n",
       "      <td>42.0</td>\n",
       "      <td>8</td>\n",
       "      <td>159660.80</td>\n",
       "      <td>3</td>\n",
       "      <td>1.0</td>\n",
       "      <td>0.0</td>\n",
       "      <td>113931.57</td>\n",
       "      <td>1</td>\n",
       "    </tr>\n",
       "    <tr>\n",
       "      <th>3</th>\n",
       "      <td>15701354</td>\n",
       "      <td>Boni</td>\n",
       "      <td>699</td>\n",
       "      <td>France</td>\n",
       "      <td>Female</td>\n",
       "      <td>39.0</td>\n",
       "      <td>1</td>\n",
       "      <td>0.00</td>\n",
       "      <td>2</td>\n",
       "      <td>0.0</td>\n",
       "      <td>0.0</td>\n",
       "      <td>93826.63</td>\n",
       "      <td>0</td>\n",
       "    </tr>\n",
       "    <tr>\n",
       "      <th>4</th>\n",
       "      <td>15737888</td>\n",
       "      <td>Mitchell</td>\n",
       "      <td>850</td>\n",
       "      <td>Spain</td>\n",
       "      <td>Female</td>\n",
       "      <td>43.0</td>\n",
       "      <td>2</td>\n",
       "      <td>125510.82</td>\n",
       "      <td>1</td>\n",
       "      <td>NaN</td>\n",
       "      <td>1.0</td>\n",
       "      <td>79084.10</td>\n",
       "      <td>0</td>\n",
       "    </tr>\n",
       "    <tr>\n",
       "      <th>...</th>\n",
       "      <td>...</td>\n",
       "      <td>...</td>\n",
       "      <td>...</td>\n",
       "      <td>...</td>\n",
       "      <td>...</td>\n",
       "      <td>...</td>\n",
       "      <td>...</td>\n",
       "      <td>...</td>\n",
       "      <td>...</td>\n",
       "      <td>...</td>\n",
       "      <td>...</td>\n",
       "      <td>...</td>\n",
       "      <td>...</td>\n",
       "    </tr>\n",
       "    <tr>\n",
       "      <th>9995</th>\n",
       "      <td>15606229</td>\n",
       "      <td>Obijiaku</td>\n",
       "      <td>771</td>\n",
       "      <td>France</td>\n",
       "      <td>Male</td>\n",
       "      <td>39.0</td>\n",
       "      <td>5</td>\n",
       "      <td>0.00</td>\n",
       "      <td>2</td>\n",
       "      <td>1.0</td>\n",
       "      <td>0.0</td>\n",
       "      <td>96270.64</td>\n",
       "      <td>0</td>\n",
       "    </tr>\n",
       "    <tr>\n",
       "      <th>9996</th>\n",
       "      <td>15569892</td>\n",
       "      <td>Johnstone</td>\n",
       "      <td>516</td>\n",
       "      <td>France</td>\n",
       "      <td>Male</td>\n",
       "      <td>35.0</td>\n",
       "      <td>10</td>\n",
       "      <td>57369.61</td>\n",
       "      <td>1</td>\n",
       "      <td>1.0</td>\n",
       "      <td>1.0</td>\n",
       "      <td>101699.77</td>\n",
       "      <td>0</td>\n",
       "    </tr>\n",
       "    <tr>\n",
       "      <th>9997</th>\n",
       "      <td>15584532</td>\n",
       "      <td>Liu</td>\n",
       "      <td>709</td>\n",
       "      <td>France</td>\n",
       "      <td>Female</td>\n",
       "      <td>36.0</td>\n",
       "      <td>7</td>\n",
       "      <td>0.00</td>\n",
       "      <td>1</td>\n",
       "      <td>0.0</td>\n",
       "      <td>1.0</td>\n",
       "      <td>42085.58</td>\n",
       "      <td>1</td>\n",
       "    </tr>\n",
       "    <tr>\n",
       "      <th>9998</th>\n",
       "      <td>15682355</td>\n",
       "      <td>Sabbatini</td>\n",
       "      <td>772</td>\n",
       "      <td>Germany</td>\n",
       "      <td>Male</td>\n",
       "      <td>42.0</td>\n",
       "      <td>3</td>\n",
       "      <td>75075.31</td>\n",
       "      <td>2</td>\n",
       "      <td>1.0</td>\n",
       "      <td>0.0</td>\n",
       "      <td>92888.52</td>\n",
       "      <td>1</td>\n",
       "    </tr>\n",
       "    <tr>\n",
       "      <th>10000</th>\n",
       "      <td>15628319</td>\n",
       "      <td>Walker</td>\n",
       "      <td>792</td>\n",
       "      <td>France</td>\n",
       "      <td>Female</td>\n",
       "      <td>28.0</td>\n",
       "      <td>4</td>\n",
       "      <td>130142.79</td>\n",
       "      <td>1</td>\n",
       "      <td>1.0</td>\n",
       "      <td>0.0</td>\n",
       "      <td>38190.78</td>\n",
       "      <td>0</td>\n",
       "    </tr>\n",
       "  </tbody>\n",
       "</table>\n",
       "<p>10000 rows × 13 columns</p>\n",
       "</div>"
      ],
      "text/plain": [
       "       CustomerId    Surname  CreditScore Geography  Gender   Age  Tenure  \\\n",
       "0        15634602   Hargrave          619    France  Female  42.0       2   \n",
       "1        15647311       Hill          608     Spain  Female  41.0       1   \n",
       "2        15619304       Onio          502    France  Female  42.0       8   \n",
       "3        15701354       Boni          699    France  Female  39.0       1   \n",
       "4        15737888   Mitchell          850     Spain  Female  43.0       2   \n",
       "...           ...        ...          ...       ...     ...   ...     ...   \n",
       "9995     15606229   Obijiaku          771    France    Male  39.0       5   \n",
       "9996     15569892  Johnstone          516    France    Male  35.0      10   \n",
       "9997     15584532        Liu          709    France  Female  36.0       7   \n",
       "9998     15682355  Sabbatini          772   Germany    Male  42.0       3   \n",
       "10000    15628319     Walker          792    France  Female  28.0       4   \n",
       "\n",
       "         Balance  NumOfProducts  HasCrCard  IsActiveMember  EstimatedSalary  \\\n",
       "0           0.00              1        1.0             1.0        101348.88   \n",
       "1       83807.86              1        0.0             1.0        112542.58   \n",
       "2      159660.80              3        1.0             0.0        113931.57   \n",
       "3           0.00              2        0.0             0.0         93826.63   \n",
       "4      125510.82              1        NaN             1.0         79084.10   \n",
       "...          ...            ...        ...             ...              ...   \n",
       "9995        0.00              2        1.0             0.0         96270.64   \n",
       "9996    57369.61              1        1.0             1.0        101699.77   \n",
       "9997        0.00              1        0.0             1.0         42085.58   \n",
       "9998    75075.31              2        1.0             0.0         92888.52   \n",
       "10000  130142.79              1        1.0             0.0         38190.78   \n",
       "\n",
       "       Exited  \n",
       "0           1  \n",
       "1           0  \n",
       "2           1  \n",
       "3           0  \n",
       "4           0  \n",
       "...       ...  \n",
       "9995        0  \n",
       "9996        0  \n",
       "9997        1  \n",
       "9998        1  \n",
       "10000       0  \n",
       "\n",
       "[10000 rows x 13 columns]"
      ]
     },
     "execution_count": 7,
     "metadata": {},
     "output_type": "execute_result"
    }
   ],
   "source": [
    "clean_data"
   ]
  },
  {
   "cell_type": "code",
   "execution_count": 8,
   "metadata": {},
   "outputs": [
    {
     "name": "stdout",
     "output_type": "stream",
     "text": [
      "<class 'pandas.core.frame.DataFrame'>\n",
      "Int64Index: 10000 entries, 0 to 10000\n",
      "Data columns (total 13 columns):\n",
      " #   Column           Non-Null Count  Dtype  \n",
      "---  ------           --------------  -----  \n",
      " 0   CustomerId       10000 non-null  int64  \n",
      " 1   Surname          10000 non-null  object \n",
      " 2   CreditScore      10000 non-null  int64  \n",
      " 3   Geography        9999 non-null   object \n",
      " 4   Gender           10000 non-null  object \n",
      " 5   Age              9999 non-null   float64\n",
      " 6   Tenure           10000 non-null  int64  \n",
      " 7   Balance          10000 non-null  float64\n",
      " 8   NumOfProducts    10000 non-null  int64  \n",
      " 9   HasCrCard        9999 non-null   float64\n",
      " 10  IsActiveMember   9999 non-null   float64\n",
      " 11  EstimatedSalary  10000 non-null  float64\n",
      " 12  Exited           10000 non-null  int64  \n",
      "dtypes: float64(5), int64(5), object(3)\n",
      "memory usage: 1.1+ MB\n"
     ]
    }
   ],
   "source": [
    "clean_data.info()"
   ]
  },
  {
   "cell_type": "code",
   "execution_count": 9,
   "metadata": {},
   "outputs": [],
   "source": [
    "# Drop Nan Value data \n",
    "\n",
    "clean_data = clean_data.dropna()"
   ]
  },
  {
   "cell_type": "markdown",
   "metadata": {},
   "source": [
    "We found 5 data with NaN values out of 10,000 total data points. Given that this represents only 0.05% of the entire dataset, and considering it's a small fraction with a similar proportion to the rest of the data, I have decided to drop these data points"
   ]
  },
  {
   "cell_type": "code",
   "execution_count": 10,
   "metadata": {},
   "outputs": [
    {
     "name": "stderr",
     "output_type": "stream",
     "text": [
      "C:\\Users\\ACER\\AppData\\Local\\Temp\\ipykernel_5504\\4014764606.py:3: SettingWithCopyWarning: \n",
      "A value is trying to be set on a copy of a slice from a DataFrame.\n",
      "Try using .loc[row_indexer,col_indexer] = value instead\n",
      "\n",
      "See the caveats in the documentation: https://pandas.pydata.org/pandas-docs/stable/user_guide/indexing.html#returning-a-view-versus-a-copy\n",
      "  clean_data[\"Age\"] = clean_data[\"Age\"].astype('int')\n",
      "C:\\Users\\ACER\\AppData\\Local\\Temp\\ipykernel_5504\\4014764606.py:5: SettingWithCopyWarning: \n",
      "A value is trying to be set on a copy of a slice from a DataFrame.\n",
      "Try using .loc[row_indexer,col_indexer] = value instead\n",
      "\n",
      "See the caveats in the documentation: https://pandas.pydata.org/pandas-docs/stable/user_guide/indexing.html#returning-a-view-versus-a-copy\n",
      "  clean_data[\"HasCrCard\"] = clean_data[\"HasCrCard\"].astype('int')\n",
      "C:\\Users\\ACER\\AppData\\Local\\Temp\\ipykernel_5504\\4014764606.py:7: SettingWithCopyWarning: \n",
      "A value is trying to be set on a copy of a slice from a DataFrame.\n",
      "Try using .loc[row_indexer,col_indexer] = value instead\n",
      "\n",
      "See the caveats in the documentation: https://pandas.pydata.org/pandas-docs/stable/user_guide/indexing.html#returning-a-view-versus-a-copy\n",
      "  clean_data[\"IsActiveMember\"] = clean_data[\"IsActiveMember\"].astype('int')\n"
     ]
    }
   ],
   "source": [
    "# Changing data type into needed type\n",
    "\n",
    "clean_data[\"Age\"] = clean_data[\"Age\"].astype('int')\n",
    "\n",
    "clean_data[\"HasCrCard\"] = clean_data[\"HasCrCard\"].astype('int')\n",
    "\n",
    "clean_data[\"IsActiveMember\"] = clean_data[\"IsActiveMember\"].astype('int')\n",
    "\n",
    " \n"
   ]
  },
  {
   "cell_type": "code",
   "execution_count": 11,
   "metadata": {},
   "outputs": [
    {
     "name": "stdout",
     "output_type": "stream",
     "text": [
      "CustomerId         0\n",
      "Surname            0\n",
      "CreditScore        0\n",
      "Geography          0\n",
      "Gender             0\n",
      "Age                0\n",
      "Tenure             0\n",
      "Balance            0\n",
      "NumOfProducts      0\n",
      "HasCrCard          0\n",
      "IsActiveMember     0\n",
      "EstimatedSalary    0\n",
      "Exited             0\n",
      "dtype: int64\n"
     ]
    }
   ],
   "source": [
    "print(clean_data.isnull().sum())"
   ]
  },
  {
   "cell_type": "markdown",
   "metadata": {},
   "source": [
    "**4. ANALYSIS AND CALCULATION**"
   ]
  },
  {
   "cell_type": "markdown",
   "metadata": {},
   "source": [
    "**1.Who is the customer of the Bank that has churned (Based on Gender, Age, Income,Residence )**"
   ]
  },
  {
   "cell_type": "code",
   "execution_count": 12,
   "metadata": {},
   "outputs": [],
   "source": [
    "#importing needed library\n",
    "import seaborn as sns\n",
    "import matplotlib.pyplot as plt\n"
   ]
  },
  {
   "cell_type": "code",
   "execution_count": 13,
   "metadata": {},
   "outputs": [],
   "source": [
    "#filtering churned customer data only\n",
    "churned_data = clean_data[clean_data['Exited']==1]"
   ]
  },
  {
   "cell_type": "code",
   "execution_count": 14,
   "metadata": {},
   "outputs": [
    {
     "name": "stdout",
     "output_type": "stream",
     "text": [
      "total churned customer : 2037\n"
     ]
    }
   ],
   "source": [
    "# counting the total churned customer \n",
    "len(churned_data)\n",
    "\n",
    "print(\"total churned customer :\",len(churned_data))"
   ]
  },
  {
   "cell_type": "code",
   "execution_count": 61,
   "metadata": {},
   "outputs": [
    {
     "data": {
      "text/plain": [
       "20.3781512605042"
      ]
     },
     "execution_count": 61,
     "metadata": {},
     "output_type": "execute_result"
    }
   ],
   "source": [
    "#Counting the current period churn rate\n",
    "total_churn_rate = (len(churned_data)/len(clean_data)*100)\n",
    "total_churn_rate"
   ]
  },
  {
   "cell_type": "markdown",
   "metadata": {},
   "source": [
    "a. Based on gender"
   ]
  },
  {
   "cell_type": "code",
   "execution_count": 62,
   "metadata": {},
   "outputs": [
    {
     "data": {
      "image/png": "[encoded data removed]",
      "text/plain": [
       "<Figure size 640x480 with 1 Axes>"
      ]
     },
     "metadata": {},
     "output_type": "display_data"
    }
   ],
   "source": [
    "dts = churned_data.groupby('Gender').size().reset_index(name='Total')\n",
    "gender_img = plt.pie(dts['Total'], labels=dts['Gender'], autopct='%1.1f%%', startangle=140)\n",
    "\n"
   ]
  },
  {
   "cell_type": "markdown",
   "metadata": {},
   "source": []
  },
  {
   "cell_type": "markdown",
   "metadata": {},
   "source": [
    "**Insight :** From the visualization highlights we can see that out of the total 2037 churned customers, 55.9% are female and 44.1% are male. This indicates that there is a slightly higher representation of female customers among those who churned compared to male customers.\n",
    "\n",
    "     Knowing the gender distribution among churned customers can help in designing targeted marketing strategies. For instance, if there are discernible differences in churn behavior between genders, marketing campaigns could be tailored accordingly to address the specific needs or preferences of male and female customers. Male and female customers may have different preferences for different products or services, which could account for the gender gap in churn rates. In order to better serve the demands of both male and female consumers, it can be helpful to analyze the kinds of goods and services that each gender prefers.\n",
    "\n",
    "     it can also delivering us to developing gender-specific retention strategies can help mitigate churn and improve customer loyalty. For example, offering personalized incentives, loyalty programs, or customer support channels tailored to the preferences of male and female customers can enhance engagement and encourage retention."
   ]
  },
  {
   "cell_type": "markdown",
   "metadata": {},
   "source": [
    "b. Based on age"
   ]
  },
  {
   "cell_type": "code",
   "execution_count": 63,
   "metadata": {},
   "outputs": [
    {
     "data": {
      "image/png": "[encoded data removed]",
      "text/plain": [
       "<Figure size 640x480 with 1 Axes>"
      ]
     },
     "metadata": {},
     "output_type": "display_data"
    }
   ],
   "source": [
    "age_bins = [0, 10, 20, 30, 40, 50, 60, 70, 80, 100]\n",
    "age_labels = ['0-9', '10-19', '20-29', '30-39', '40-49', '50-59', '60-69', '70-79', '80-100']\n",
    "\n",
    "# Create new column with age ranges\n",
    "# pd.cut(clean_data['Age'], bins=age_bins, labels=age_labels, right=False)\n",
    "\n",
    "age_img = sns.barplot(data=churned_data.groupby(pd.cut(clean_data['Age'], bins=age_bins, labels=age_labels, right=False)).size().reset_index(name='Total'), x='Age', hue='Age', \n",
    "             y='Total', errorbar=None) "
   ]
  },
  {
   "cell_type": "markdown",
   "metadata": {},
   "source": [
    "**Insights :**  \n",
    "\n",
    "**High Churn Rate in the 40-49 Age Group:**  The age group of 40-49 years shown the highest churn rate, with more than 800 customers churning. This indicates that individuals in their 40s may be particularly able to switching banks or discontinuing services, suggesting a need for targeted retention efforts within this demographic.\n",
    "\n",
    "**Moderate Churn Rates in the 30-39 and 50-59 Age Groups:** The age ranges of 30-39 and 50-59 both show moderate churn rates. Age range 30-39 has churned between 450 and 500 customers, while age range 50-59 has churned below 500 but higher than the 30-39 range. This suggests that individuals in their thirties and fifties also exhibit notable churn behavior, albeit at slightly lower levels compared to those in their forties."
   ]
  },
  {
   "cell_type": "markdown",
   "metadata": {},
   "source": [
    "c. Based on Salary"
   ]
  },
  {
   "cell_type": "code",
   "execution_count": 64,
   "metadata": {},
   "outputs": [
    {
     "data": {
      "image/png": "[encoded data removed]",
      "text/plain": [
       "<Figure size 640x480 with 1 Axes>"
      ]
     },
     "metadata": {},
     "output_type": "display_data"
    }
   ],
   "source": [
    "salary_bins = [0, 50000, 100000, 150000, 200000, 999999999]\n",
    "salary_labels = ['0-50000', '50001-100000', '100001-150000', '150001-200000', '>200000']\n",
    "\n",
    "\n",
    "xx = sns.barplot(data=churned_data.groupby(pd.cut(clean_data['EstimatedSalary'], bins=salary_bins, labels=salary_labels, right=False)).size().reset_index(name='Total'), x='EstimatedSalary', hue='EstimatedSalary', \n",
    "             y='Total', errorbar=None) \n",
    "\n",
    "churned_data.groupby(pd.cut(clean_data['EstimatedSalary'], bins=salary_bins, labels=salary_labels, right=False)).size().reset_index(name='Total')\n",
    "xx.tick_params(axis='x', labelsize=7)"
   ]
  },
  {
   "cell_type": "markdown",
   "metadata": {},
   "source": [
    "**Insights:** The data indicates a relatively balanced distribution of churned customers across different estimated salary ranges. The churned customer counts range from 489 to 527 across the various salary brackets, suggesting that churn is not significantly skewed towards any particular income level."
   ]
  },
  {
   "cell_type": "markdown",
   "metadata": {},
   "source": [
    "d. Based on residence"
   ]
  },
  {
   "cell_type": "code",
   "execution_count": 65,
   "metadata": {},
   "outputs": [
    {
     "data": {
      "image/png": "[encoded data removed]",
      "text/plain": [
       "<Figure size 640x480 with 1 Axes>"
      ]
     },
     "metadata": {},
     "output_type": "display_data"
    }
   ],
   "source": [
    "\n",
    "dts = churned_data.groupby('Geography').size().reset_index(name='Total')\n",
    "geog = plt.pie(dts['Total'], labels=dts['Geography'], autopct='%1.1f%%', startangle=140) "
   ]
  },
  {
   "cell_type": "markdown",
   "metadata": {},
   "source": [
    "**Insights:** The data reveals that both France and Germany have similar total numbers of churned customers, with France having 39.8 % churned customers and Germany having 40 % churned customers. This suggests that the churn rates in these two countries are comparable, indicating potential similarities in factors influencing customer churn across these regions. Spain has a notably lower total number of churned customers compared to France and Germany, with only 20.3 % churned customers. This indicates that the churn rate in Spain is relatively lower compared to the other two countries. "
   ]
  },
  {
   "cell_type": "markdown",
   "metadata": {},
   "source": [
    "**2. When is the customer usually has churn tendency based on the tenure on the bank?**"
   ]
  },
  {
   "cell_type": "code",
   "execution_count": 66,
   "metadata": {},
   "outputs": [
    {
     "data": {
      "image/png": "[encoded data removed]",
      "text/plain": [
       "<Figure size 640x480 with 1 Axes>"
      ]
     },
     "metadata": {},
     "output_type": "display_data"
    }
   ],
   "source": [
    "\n",
    "xx = sns.barplot(data=churned_data.groupby('Tenure').size().reset_index(name='Total'), x='Tenure',\n",
    "             y='Total', errorbar=None) "
   ]
  },
  {
   "cell_type": "markdown",
   "metadata": {},
   "source": [
    "**Insights:** The data indicates variability in churn rates across different tenure periods. While some tenure periods have relatively high churn rates (e.g., 1 year with 232 churned customers), others have lower churn rates (e.g., 10 years with 101 churned customers). This suggests that the likelihood of churn may vary depending on how long a customer has been with the bank."
   ]
  },
  {
   "cell_type": "markdown",
   "metadata": {},
   "source": [
    "***3. How customer that has been churned compared to customers that hasn't churned? (based on Gender, Age, Residence) to retain?***"
   ]
  },
  {
   "cell_type": "code",
   "execution_count": 67,
   "metadata": {},
   "outputs": [
    {
     "data": {
      "text/plain": [
       "7959"
      ]
     },
     "execution_count": 67,
     "metadata": {},
     "output_type": "execute_result"
    }
   ],
   "source": [
    "not_churned_data = clean_data[clean_data['Exited']!=1] \n",
    "len(not_churned_data)"
   ]
  },
  {
   "cell_type": "markdown",
   "metadata": {},
   "source": [
    "a. Based on gender"
   ]
  },
  {
   "cell_type": "code",
   "execution_count": 68,
   "metadata": {},
   "outputs": [
    {
     "data": {
      "text/html": [
       "<div>\n",
       "<style scoped>\n",
       "    .dataframe tbody tr th:only-of-type {\n",
       "        vertical-align: middle;\n",
       "    }\n",
       "\n",
       "    .dataframe tbody tr th {\n",
       "        vertical-align: top;\n",
       "    }\n",
       "\n",
       "    .dataframe thead th {\n",
       "        text-align: right;\n",
       "    }\n",
       "</style>\n",
       "<table border=\"1\" class=\"dataframe\">\n",
       "  <thead>\n",
       "    <tr style=\"text-align: right;\">\n",
       "      <th></th>\n",
       "      <th>Gender</th>\n",
       "      <th>Exited</th>\n",
       "      <th>Total</th>\n",
       "    </tr>\n",
       "  </thead>\n",
       "  <tbody>\n",
       "    <tr>\n",
       "      <th>0</th>\n",
       "      <td>Female</td>\n",
       "      <td>0</td>\n",
       "      <td>3403</td>\n",
       "    </tr>\n",
       "    <tr>\n",
       "      <th>1</th>\n",
       "      <td>Female</td>\n",
       "      <td>1</td>\n",
       "      <td>1139</td>\n",
       "    </tr>\n",
       "    <tr>\n",
       "      <th>2</th>\n",
       "      <td>Male</td>\n",
       "      <td>0</td>\n",
       "      <td>4556</td>\n",
       "    </tr>\n",
       "    <tr>\n",
       "      <th>3</th>\n",
       "      <td>Male</td>\n",
       "      <td>1</td>\n",
       "      <td>898</td>\n",
       "    </tr>\n",
       "  </tbody>\n",
       "</table>\n",
       "</div>"
      ],
      "text/plain": [
       "   Gender  Exited  Total\n",
       "0  Female       0   3403\n",
       "1  Female       1   1139\n",
       "2    Male       0   4556\n",
       "3    Male       1    898"
      ]
     },
     "execution_count": 68,
     "metadata": {},
     "output_type": "execute_result"
    },
    {
     "data": {
      "image/png": "[encoded data removed]",
      "text/plain": [
       "<Figure size 640x480 with 1 Axes>"
      ]
     },
     "metadata": {},
     "output_type": "display_data"
    }
   ],
   "source": [
    "Gender_mapping = clean_data.groupby(['Gender', 'Exited']).size().reset_index(name='Total') \n",
    "# Create bar plot with two colors\n",
    "sns.barplot(data=Gender_mapping, x='Gender', y='Total', hue='Exited', palette='muted')\n",
    "\n",
    "Gender_mapping"
   ]
  },
  {
   "cell_type": "markdown",
   "metadata": {},
   "source": [
    "**Insights:** \n",
    "\n",
    "    Gender Distribution Among Churned and Not Churned Customers: The data provides insights into the gender distribution among churned and not churned customers. The majority of customers in both categories are male, with 4556 not churned and 898 churned male customers. Female customers, while fewer in number, also exhibit a significant presence in both churned (1139) and not churned (3403) categories.\n",
    "\n",
    "    Higher Churn Rate Among Female Customers: Despite being a minority in the overall customer base, female customers have a higher churn rate compared to male customers. The data shows that 1139 out of 4542 (25.06%) female customers churned, whereas only 898 out of 5454 (16.45%) male customers churned. This suggests that female customers may be more likely to churn compared to male customers, indicating a potential need for targeted retention efforts within this demographic."
   ]
  },
  {
   "cell_type": "markdown",
   "metadata": {},
   "source": [
    "b. Based on age"
   ]
  },
  {
   "cell_type": "code",
   "execution_count": 69,
   "metadata": {},
   "outputs": [
    {
     "data": {
      "text/plain": [
       "<Axes: xlabel='AGE_RANGE', ylabel='COUNT'>"
      ]
     },
     "execution_count": 69,
     "metadata": {},
     "output_type": "execute_result"
    },
    {
     "data": {
      "image/png": "[encoded data removed]",
      "text/plain": [
       "<Figure size 640x480 with 1 Axes>"
      ]
     },
     "metadata": {},
     "output_type": "display_data"
    }
   ],
   "source": [
    "age_bins = [0, 10, 20, 30, 40, 50, 60, 70, 80, 100]\n",
    "age_labels = ['0-9', '10-19', '20-29', '30-39', '40-49', '50-59', '60-69', '70-79', '80-100']\n",
    "\n",
    "age_mapping = (clean_data.assign(AGE_RANGE=pd.cut(clean_data['Age'], right=False,\n",
    "                      bins=age_bins,\n",
    "                      labels=age_labels)\n",
    "                 .astype('string')\n",
    "          )\n",
    "   .groupby(['Exited', 'AGE_RANGE'], as_index=False).agg(COUNT=('AGE_RANGE', 'count'))\n",
    ")             \n",
    " \n",
    "# Create bar plot with two colors\n",
    "sns.barplot(data=age_mapping, x='AGE_RANGE', y='COUNT', hue='Exited', palette='muted')\n",
    "\n"
   ]
  },
  {
   "cell_type": "code",
   "execution_count": 70,
   "metadata": {},
   "outputs": [
    {
     "data": {
      "text/html": [
       "<div>\n",
       "<style scoped>\n",
       "    .dataframe tbody tr th:only-of-type {\n",
       "        vertical-align: middle;\n",
       "    }\n",
       "\n",
       "    .dataframe tbody tr th {\n",
       "        vertical-align: top;\n",
       "    }\n",
       "\n",
       "    .dataframe thead th {\n",
       "        text-align: right;\n",
       "    }\n",
       "</style>\n",
       "<table border=\"1\" class=\"dataframe\">\n",
       "  <thead>\n",
       "    <tr style=\"text-align: right;\">\n",
       "      <th></th>\n",
       "      <th>Exited</th>\n",
       "      <th>AGE_RANGE</th>\n",
       "      <th>COUNT</th>\n",
       "    </tr>\n",
       "  </thead>\n",
       "  <tbody>\n",
       "    <tr>\n",
       "      <th>0</th>\n",
       "      <td>0</td>\n",
       "      <td>10-19</td>\n",
       "      <td>46</td>\n",
       "    </tr>\n",
       "    <tr>\n",
       "      <th>1</th>\n",
       "      <td>0</td>\n",
       "      <td>20-29</td>\n",
       "      <td>1470</td>\n",
       "    </tr>\n",
       "    <tr>\n",
       "      <th>2</th>\n",
       "      <td>0</td>\n",
       "      <td>30-39</td>\n",
       "      <td>3873</td>\n",
       "    </tr>\n",
       "    <tr>\n",
       "      <th>3</th>\n",
       "      <td>0</td>\n",
       "      <td>40-49</td>\n",
       "      <td>1810</td>\n",
       "    </tr>\n",
       "    <tr>\n",
       "      <th>4</th>\n",
       "      <td>0</td>\n",
       "      <td>50-59</td>\n",
       "      <td>381</td>\n",
       "    </tr>\n",
       "    <tr>\n",
       "      <th>5</th>\n",
       "      <td>0</td>\n",
       "      <td>60-69</td>\n",
       "      <td>243</td>\n",
       "    </tr>\n",
       "    <tr>\n",
       "      <th>6</th>\n",
       "      <td>0</td>\n",
       "      <td>70-79</td>\n",
       "      <td>122</td>\n",
       "    </tr>\n",
       "    <tr>\n",
       "      <th>7</th>\n",
       "      <td>0</td>\n",
       "      <td>80-100</td>\n",
       "      <td>14</td>\n",
       "    </tr>\n",
       "    <tr>\n",
       "      <th>8</th>\n",
       "      <td>1</td>\n",
       "      <td>10-19</td>\n",
       "      <td>3</td>\n",
       "    </tr>\n",
       "    <tr>\n",
       "      <th>9</th>\n",
       "      <td>1</td>\n",
       "      <td>20-29</td>\n",
       "      <td>121</td>\n",
       "    </tr>\n",
       "    <tr>\n",
       "      <th>10</th>\n",
       "      <td>1</td>\n",
       "      <td>30-39</td>\n",
       "      <td>473</td>\n",
       "    </tr>\n",
       "    <tr>\n",
       "      <th>11</th>\n",
       "      <td>1</td>\n",
       "      <td>40-49</td>\n",
       "      <td>806</td>\n",
       "    </tr>\n",
       "    <tr>\n",
       "      <th>12</th>\n",
       "      <td>1</td>\n",
       "      <td>50-59</td>\n",
       "      <td>487</td>\n",
       "    </tr>\n",
       "    <tr>\n",
       "      <th>13</th>\n",
       "      <td>1</td>\n",
       "      <td>60-69</td>\n",
       "      <td>132</td>\n",
       "    </tr>\n",
       "    <tr>\n",
       "      <th>14</th>\n",
       "      <td>1</td>\n",
       "      <td>70-79</td>\n",
       "      <td>14</td>\n",
       "    </tr>\n",
       "    <tr>\n",
       "      <th>15</th>\n",
       "      <td>1</td>\n",
       "      <td>80-100</td>\n",
       "      <td>1</td>\n",
       "    </tr>\n",
       "  </tbody>\n",
       "</table>\n",
       "</div>"
      ],
      "text/plain": [
       "    Exited AGE_RANGE  COUNT\n",
       "0        0     10-19     46\n",
       "1        0     20-29   1470\n",
       "2        0     30-39   3873\n",
       "3        0     40-49   1810\n",
       "4        0     50-59    381\n",
       "5        0     60-69    243\n",
       "6        0     70-79    122\n",
       "7        0    80-100     14\n",
       "8        1     10-19      3\n",
       "9        1     20-29    121\n",
       "10       1     30-39    473\n",
       "11       1     40-49    806\n",
       "12       1     50-59    487\n",
       "13       1     60-69    132\n",
       "14       1     70-79     14\n",
       "15       1    80-100      1"
      ]
     },
     "execution_count": 70,
     "metadata": {},
     "output_type": "execute_result"
    }
   ],
   "source": [
    "age_mapping"
   ]
  },
  {
   "cell_type": "markdown",
   "metadata": {},
   "source": [
    "**Insight :** \n",
    "\n",
    "    Churned customers are generally lower in number across all age ranges compared to not churned customers: Churned customers represent a smaller portion of the total customer base in each age range compared to not churned customers\n",
    "\n",
    "    Not churned customers outnumber churned customers significantly in most age ranges: The count of not churned customers is substantially higher than churned customers across all age ranges, indicating that most customers do not churn.\n",
    "\n",
    "    Churn rates tend to increase with age, peaking in the middle-aged groups (30-39 and 40-49): The number of churned customers is highest in the 40-49 age range for churned customers, whereas for not churned customers, the highest number is in the 30-39 age range. This suggests that individuals in their thirties and forties may be more likely to churn compared to younger or older age groups."
   ]
  },
  {
   "cell_type": "markdown",
   "metadata": {},
   "source": [
    "c. Based on Geography"
   ]
  },
  {
   "cell_type": "code",
   "execution_count": 71,
   "metadata": {},
   "outputs": [
    {
     "data": {
      "text/plain": [
       "<Axes: xlabel='Geography', ylabel='Total'>"
      ]
     },
     "execution_count": 71,
     "metadata": {},
     "output_type": "execute_result"
    },
    {
     "data": {
      "image/png": "[encoded data removed]",
      "text/plain": [
       "<Figure size 640x480 with 1 Axes>"
      ]
     },
     "metadata": {},
     "output_type": "display_data"
    }
   ],
   "source": [
    "Geography_mapping = clean_data.groupby(['Geography', 'Exited']).size().reset_index(name='Total') \n",
    "# Create bar plot with two colors\n",
    "sns.barplot(data=Geography_mapping, x='Geography', y='Total', hue='Exited', palette='muted')"
   ]
  },
  {
   "cell_type": "code",
   "execution_count": 72,
   "metadata": {},
   "outputs": [
    {
     "data": {
      "text/html": [
       "<div>\n",
       "<style scoped>\n",
       "    .dataframe tbody tr th:only-of-type {\n",
       "        vertical-align: middle;\n",
       "    }\n",
       "\n",
       "    .dataframe tbody tr th {\n",
       "        vertical-align: top;\n",
       "    }\n",
       "\n",
       "    .dataframe thead th {\n",
       "        text-align: right;\n",
       "    }\n",
       "</style>\n",
       "<table border=\"1\" class=\"dataframe\">\n",
       "  <thead>\n",
       "    <tr style=\"text-align: right;\">\n",
       "      <th></th>\n",
       "      <th>Geography</th>\n",
       "      <th>Exited</th>\n",
       "      <th>Total</th>\n",
       "    </tr>\n",
       "  </thead>\n",
       "  <tbody>\n",
       "    <tr>\n",
       "      <th>0</th>\n",
       "      <td>France</td>\n",
       "      <td>0</td>\n",
       "      <td>4201</td>\n",
       "    </tr>\n",
       "    <tr>\n",
       "      <th>1</th>\n",
       "      <td>France</td>\n",
       "      <td>1</td>\n",
       "      <td>810</td>\n",
       "    </tr>\n",
       "    <tr>\n",
       "      <th>2</th>\n",
       "      <td>Germany</td>\n",
       "      <td>0</td>\n",
       "      <td>1695</td>\n",
       "    </tr>\n",
       "    <tr>\n",
       "      <th>3</th>\n",
       "      <td>Germany</td>\n",
       "      <td>1</td>\n",
       "      <td>814</td>\n",
       "    </tr>\n",
       "    <tr>\n",
       "      <th>4</th>\n",
       "      <td>Spain</td>\n",
       "      <td>0</td>\n",
       "      <td>2063</td>\n",
       "    </tr>\n",
       "    <tr>\n",
       "      <th>5</th>\n",
       "      <td>Spain</td>\n",
       "      <td>1</td>\n",
       "      <td>413</td>\n",
       "    </tr>\n",
       "  </tbody>\n",
       "</table>\n",
       "</div>"
      ],
      "text/plain": [
       "  Geography  Exited  Total\n",
       "0    France       0   4201\n",
       "1    France       1    810\n",
       "2   Germany       0   1695\n",
       "3   Germany       1    814\n",
       "4     Spain       0   2063\n",
       "5     Spain       1    413"
      ]
     },
     "execution_count": 72,
     "metadata": {},
     "output_type": "execute_result"
    }
   ],
   "source": [
    "Geography_mapping"
   ]
  },
  {
   "cell_type": "markdown",
   "metadata": {},
   "source": [
    "**Insights :**\n",
    "\n",
    "**Churn Rate Comparison Across Countries:**\n",
    "\n",
    "France: The churn rate in France can be calculated by dividing the number of churned customers (810) by the total number of customers (4201 + 810 = 5011), resulting in a churn rate of approximately 16.17%.\n",
    "Germany: Similarly, the churn rate in Germany can be calculated as the number of churned customers (814) divided by the total number of customers (1695 + 814 = 2509), resulting in a churn rate of approximately 32.45%.\n",
    "Spain: For Spain, the churn rate can be calculated by dividing the number of churned customers (413) by the total number of customers (2063 + 413 = 2476), resulting in a churn rate of approximately 16.68%.\n",
    "Comparing these churn rates, we observe that Germany has the highest churn rate, followed by Spain, while France has the lowest churn rate.\n",
    "\n",
    "**Comparison Between Churned and Not Churned Customers in Each Geography:**\n",
    "\n",
    "France: In France, the percentage of churned customers (810) out of the total customers (5011) is approximately 16.17%. The percentage of not churned customers (4201) out of the total customers (5011) is approximately 83.83%.\n",
    "Germany: In Germany, the percentage of churned customers (814) out of the total customers (2509) is approximately 32.45%. The percentage of not churned customers (1695) out of the total customers (2509) is approximately 67.55%.\n",
    "Spain: In Spain, the percentage of churned customers (413) out of the total customers (2476) is approximately 16.68%. The percentage of not churned customers (2063) out of the total customers (2476) is approximately 83.32%.\n",
    "Comparing churned and not churned percentages within each geography, we can observe the proportion of churned customers relative to the total customer base in each country. This provides insights into the magnitude of churn and the composition of customers in terms of churn status within each geography.\n",
    "\n",
    "    Germany has the highest total number of churned customers (814), followed by France (810), and Spain (413). However, when considering the total customer base in each country, Germany has a smaller total number of customers compared to France and Spain. This indicates that the churn rate is relatively higher in Germany compared to France and Spain."
   ]
  },
  {
   "cell_type": "markdown",
   "metadata": {},
   "source": [
    "**4. What is characteristic of the customer who has churn tendency? (descriptive) (tenure, balance, number of product, salary)**\n"
   ]
  },
  {
   "cell_type": "code",
   "execution_count": 73,
   "metadata": {},
   "outputs": [
    {
     "name": "stdout",
     "output_type": "stream",
     "text": [
      "Median of Tenure : 5.0\n",
      "Mean of Tenure : 4.932744231713304\n",
      "Standard Deviation of Tenure : 2.9361062684311996\n",
      "Skewness of Tenure : 0.05191966479331796\n",
      "Kurtosis of Tenure : -1.17801173220309 \n",
      "\n",
      "Median of Balance : 109349.29\n",
      "Mean of Balance : 91108.53933726068\n",
      "Standard Deviation of Balance : 58360.794815855304\n",
      "Skewness of Balance : -0.5127317438747061\n",
      "Kurtosis of Balance : -0.9277988639479458 \n",
      "\n",
      "Median of NumOfProducts : 1.0\n",
      "Mean of NumOfProducts : 1.4752086401570939\n",
      "Standard Deviation of NumOfProducts : 0.8015205454864539\n",
      "Skewness of NumOfProducts : 1.5703200417581102\n",
      "Kurtosis of NumOfProducts : 1.4422746143894298 \n",
      "\n",
      "Median of Estimated Salary : 102460.84\n",
      "Mean of Estimated Salary : 101465.67753068237\n",
      "Standard Deviation of Estimated Salary : 57912.418070799045\n",
      "Skewness of Estimated Salary : -0.03310390131791528\n",
      "Kurtosis of Estimated Salary : -1.2122752601944147 \n",
      "\n"
     ]
    }
   ],
   "source": [
    "\n",
    "#Pada kolom Tenure\n",
    "print('Median of Tenure :', churned_data['Tenure'].median())\n",
    "print('Mean of Tenure :', churned_data['Tenure'].mean())\n",
    "print('Standard Deviation of Tenure :', churned_data['Tenure'].std())\n",
    "print('Skewness of Tenure :', churned_data['Tenure'].skew())\n",
    "print('Kurtosis of Tenure :', churned_data['Tenure'].kurtosis(),'\\n')\n",
    "\n",
    "\n",
    "#Pada kolom Balance\n",
    "print('Median of Balance :', churned_data['Balance'].median())\n",
    "print('Mean of Balance :', churned_data['Balance'].mean())\n",
    "print('Standard Deviation of Balance :', churned_data['Balance'].std())\n",
    "print('Skewness of Balance :', churned_data['Balance'].skew())\n",
    "print('Kurtosis of Balance :', churned_data['Balance'].kurtosis(),'\\n')\n",
    "\n",
    "\n",
    "#Pada kolom NumOfProducts\n",
    "print('Median of NumOfProducts :', churned_data['NumOfProducts'].median())\n",
    "print('Mean of NumOfProducts :', churned_data['NumOfProducts'].mean())\n",
    "print('Standard Deviation of NumOfProducts :', churned_data['NumOfProducts'].std())\n",
    "print('Skewness of NumOfProducts :', churned_data['NumOfProducts'].skew())\n",
    "print('Kurtosis of NumOfProducts :', churned_data['NumOfProducts'].kurtosis(),'\\n')\n",
    "\n",
    "#Pada kolom EstimatedSalary\n",
    "print('Median of Estimated Salary :', churned_data['EstimatedSalary'].median())\n",
    "print('Mean of Estimated Salary :', churned_data['EstimatedSalary'].mean())\n",
    "print('Standard Deviation of Estimated Salary :', churned_data['EstimatedSalary'].std())\n",
    "print('Skewness of Estimated Salary :', churned_data['EstimatedSalary'].skew())\n",
    "print('Kurtosis of Estimated Salary :', churned_data['EstimatedSalary'].kurtosis(),'\\n')\n",
    "\n"
   ]
  },
  {
   "cell_type": "markdown",
   "metadata": {},
   "source": [
    "**Insights :**\n",
    "\n",
    "**Tenure:**\n",
    "\n",
    "The median value of the tenure is 5.0, with a mean of approximately 4.93 years.\n",
    "Customers with a churn tendency may have a slightly lower tenure compared to the overall median and mean tenure. However, the skewness and kurtosis of the tenure distribution implies that it is probably normally distributed with a slight right skewness, which indicates that churned customers may not exhibit significant deviations in tenure from the overall distribution.\n",
    "\n",
    "**Balance:**\n",
    "\n",
    "The median value of customers balance is $109,349.29, with a mean of approximately $91,108.54.\n",
    "Customers with a churn tendency may have a balance distribution similar to the overall distribution, as it implied by the skewness and kurtosis values close to zero.\n",
    "\n",
    "**Number of Products:**\n",
    "\n",
    "The median number of products held by customers is 1.0, with a mean of approximately 1.48 products.\n",
    "Customers with a churn tendency may tend to hold fewer products compared to the overall median and mean. The positive skewness and kurtosis of the number of products distribution indicate that churned customers are more likely to have a lower number of products, with a right-skewed distribution.\n",
    "\n",
    "**Estimated Salary:**\n",
    "\n",
    "The median estimated salary of customers is $102,460.84, with a mean of approximately $101,465.68.\n",
    "Customers with a churn tendency may have a similar estimated salary distribution to the overall distribution, as indicated by the skewness and kurtosis values close to zero. However, there is a slight left skewness in the estimated salary distribution, suggesting that customers with lower estimated salaries may have a slightly higher likelihood of churn."
   ]
  },
  {
   "cell_type": "markdown",
   "metadata": {},
   "source": [
    "**5. Why people has churn tendency? (Could make assumption and hipotesis by finding the correlation between variables : creditscore,balance, number of products, has Credit Card, Active Member)**\n",
    " "
   ]
  },
  {
   "cell_type": "markdown",
   "metadata": {},
   "source": [
    "To find the correlation between independent variables and dependant variable (churned or not churn) I'm using chi-squared method to find the correlation. Since the data type of the churn decision is binary (yes/no) and the other variabel as categorical datas, therefore, for the data that hasn't got its category I created the category based on what its needed"
   ]
  },
  {
   "cell_type": "markdown",
   "metadata": {},
   "source": [
    "Based on Credit Score"
   ]
  },
  {
   "cell_type": "code",
   "execution_count": 74,
   "metadata": {},
   "outputs": [
    {
     "name": "stdout",
     "output_type": "stream",
     "text": [
      "Lower Limit of Credit Score: 648.6091137535395\n",
      "Upper Limit of Credit Score: 652.3974888875168\n",
      "Chi-squared statistic: 7.968013853118188\n",
      "p-value: 0.018610917156318282\n",
      "Degrees of freedom: 2\n",
      "Expected frequencies table:  [[3950.83613445 1011.16386555]\n",
      " [3872.0105042   990.9894958 ]\n",
      " [ 136.15336134   34.84663866]] \n",
      "\n",
      "Exited                  0     1\n",
      "credit_score_bucket            \n",
      "HIGH                 4007   955\n",
      "LOW                  3820  1043\n",
      "MEDIUM                132    39 \n",
      "\n",
      "Exited                      0         1\n",
      "credit_score_bucket                    \n",
      "HIGH                 0.807537  0.192463\n",
      "LOW                  0.785523  0.214477\n",
      "MEDIUM               0.771930  0.228070\n"
     ]
    },
    {
     "name": "stderr",
     "output_type": "stream",
     "text": [
      "C:\\Users\\ACER\\AppData\\Local\\Temp\\ipykernel_5504\\983631295.py:12: SettingWithCopyWarning: \n",
      "A value is trying to be set on a copy of a slice from a DataFrame.\n",
      "Try using .loc[row_indexer,col_indexer] = value instead\n",
      "\n",
      "See the caveats in the documentation: https://pandas.pydata.org/pandas-docs/stable/user_guide/indexing.html#returning-a-view-versus-a-copy\n",
      "  clean_data['credit_score_bucket']  = np.where(clean_data['CreditScore'] <= credit_low, 'LOW',\n"
     ]
    }
   ],
   "source": [
    "#Importing needed library\n",
    "from scipy import stats\n",
    "import numpy as np \n",
    "\n",
    "\n",
    "# Creating Category for Credit Score\n",
    "N = len(clean_data)\n",
    "credit_low, credit_up = stats.norm.interval(0.95,loc=clean_data['CreditScore'].mean(),scale=clean_data['CreditScore'].std()/np.sqrt(N))\n",
    "print('Lower Limit of Credit Score:', credit_low)\n",
    "print('Upper Limit of Credit Score:', credit_up)\n",
    "\n",
    "clean_data['credit_score_bucket']  = np.where(clean_data['CreditScore'] <= credit_low, 'LOW', \n",
    "                            np.where(clean_data['CreditScore'] >= credit_up, 'HIGH', 'MEDIUM'))\n",
    "\n",
    "\n",
    "# Perform chi-squared test\n",
    "chi2, p, dof, expected = stats.chi2_contingency(pd.crosstab(clean_data['credit_score_bucket'], clean_data['Exited']))\n",
    "\n",
    "# Hitung jumlah churn (0) dan tidak churn (1) untuk setiap kategori kredit score\n",
    "churn_counts = clean_data.groupby(['credit_score_bucket', 'Exited']).size().unstack(fill_value=0)\n",
    "\n",
    "# # Hitung proporsi churn (yes) dari total jumlah data di setiap kategori \n",
    "churn_proportions = churn_counts.div(churn_counts.sum(axis=1), axis=0)\n",
    "\n",
    "print(\"Chi-squared statistic:\", chi2)\n",
    "print(\"p-value:\", p)\n",
    "print(\"Degrees of freedom:\", dof)\n",
    "print(\"Expected frequencies table: \", expected, \"\\n\")\n",
    "print(churn_counts, \"\\n\")\n",
    "print(churn_proportions)\n"
   ]
  },
  {
   "cell_type": "markdown",
   "metadata": {},
   "source": [
    "**Insights :**\n",
    "\n",
    "The Chi-squared result is aproximately 7.97 it's indicates the strength of this association. The larger the Chi-squared value, the stronger the association between the variables.\n",
    "\n",
    "We have hypothesis : \n",
    "\n",
    "H0 : \"There is no correlation between credit score and churn decision\"\n",
    "\n",
    "H1 : \"There is correlation between credit score and churn decision\"\n",
    "\n",
    "P-value (0.0186) is less than the significance level (0.05), we reject the null hypothesis. This means that we have evidence to suggest that there is a statistically significant correlation between credit score and churn decision."
   ]
  },
  {
   "cell_type": "markdown",
   "metadata": {},
   "source": [
    "Based on Balance"
   ]
  },
  {
   "cell_type": "code",
   "execution_count": 75,
   "metadata": {},
   "outputs": [
    {
     "name": "stdout",
     "output_type": "stream",
     "text": [
      "Lower Limit of Balance: 75253.05749440349\n",
      "Upper Limit of Balance: 77699.46893816958\n",
      "Chi-squared statistic of Balance: 124.74732951615783\n",
      "p-value of Balance: 8.155706332538861e-28\n",
      "Degrees of freedom of Balance: 2\n",
      "expected_balance frequencies table of Balance:  [[4680.17226891 1197.82773109]\n",
      " [3223.88865546  825.11134454]\n",
      " [  54.93907563   14.06092437]] \n",
      "\n",
      "Exited             0     1\n",
      "balance_bucket            \n",
      "HIGH            4459  1419\n",
      "LOW             3443   606\n",
      "MEDIUM            57    12 \n",
      "\n",
      "Exited                 0         1\n",
      "balance_bucket                    \n",
      "HIGH            0.758591  0.241409\n",
      "LOW             0.850333  0.149667\n",
      "MEDIUM          0.826087  0.173913\n"
     ]
    },
    {
     "name": "stderr",
     "output_type": "stream",
     "text": [
      "C:\\Users\\ACER\\AppData\\Local\\Temp\\ipykernel_5504\\438533425.py:6: SettingWithCopyWarning: \n",
      "A value is trying to be set on a copy of a slice from a DataFrame.\n",
      "Try using .loc[row_indexer,col_indexer] = value instead\n",
      "\n",
      "See the caveats in the documentation: https://pandas.pydata.org/pandas-docs/stable/user_guide/indexing.html#returning-a-view-versus-a-copy\n",
      "  clean_data['balance_bucket']  = np.where(clean_data['Balance'] <= balance_low, 'LOW',\n"
     ]
    }
   ],
   "source": [
    "\n",
    "N = len(clean_data)\n",
    "balance_low, balance_up = stats.norm.interval(0.95,loc=clean_data['Balance'].mean(),scale=clean_data['Balance'].std()/np.sqrt(N))\n",
    "print('Lower Limit of Balance:', balance_low)\n",
    "print('Upper Limit of Balance:', balance_up)\n",
    "\n",
    "clean_data['balance_bucket']  = np.where(clean_data['Balance'] <= balance_low, 'LOW', \n",
    "                            np.where(clean_data['Balance'] >= balance_up, 'HIGH', 'MEDIUM'))\n",
    "\n",
    "\n",
    "# Perform chi-squared test\n",
    "chi2_balance, p_balance, dof_balance, expected_balance = stats.chi2_contingency(pd.crosstab(clean_data['balance_bucket'], clean_data['Exited']))\n",
    "\n",
    "# Hitung jumlah churn (0) dan tidak churn (1) untuk setiap kategori kredit score\n",
    "churn_counts = clean_data.groupby(['balance_bucket', 'Exited']).size().unstack(fill_value=0)\n",
    "\n",
    "# # Hitung proporsi churn (yes) dari total jumlah data di setiap kategori \n",
    "churn_proportions = churn_counts.div(churn_counts.sum(axis=1), axis=0)\n",
    "\n",
    "print(\"Chi-squared statistic of Balance:\", chi2_balance)\n",
    "print(\"p-value of Balance:\", p_balance)\n",
    "print(\"Degrees of freedom of Balance:\", dof_balance)\n",
    "print(\"expected_balance frequencies table of Balance: \", expected_balance, \"\\n\")\n",
    "print(churn_counts, \"\\n\")\n",
    "print(churn_proportions)"
   ]
  },
  {
   "cell_type": "markdown",
   "metadata": {},
   "source": [
    "**Insight :**\n",
    "The Chi-squared statistic of approximately 124.75 with an extremely low p-value (8.155706332538861e-28) indicates that there is a statistically significant association between balance and the other variable being analyzed. In other words, the balance is likely related to or dependent on the other variable.\n",
    "\n",
    "We Have Hypothesis : \n",
    "\n",
    "H0 = \"There is no correlation between balance and churn decision\"\n",
    "\n",
    "H1 = \" There is correlation between balance and churn decision\"\n",
    "\n",
    "The conclussion is : H0 is rejected. There is Correlation between balance and decision.\n",
    "\n",
    "    Chi-squared test indicates a significant association between balance and churn decision, in the implication is that customers with higher balances have a higher churn rate compared to those with lower balances. This suggests a negative correlation between balance and churn decision: as the balance increases, the likelihood of churn also increases.\n",
    "\n",
    "    Therefore, despite the significant association between balance and churn decision, it's important to note that the direction of this association is negative. This insight could inform targeted retention strategies for customers with higher balances to reduce churn rates and retain valuable customers"
   ]
  },
  {
   "cell_type": "markdown",
   "metadata": {},
   "source": [
    "Based on Number of Products"
   ]
  },
  {
   "cell_type": "code",
   "execution_count": 76,
   "metadata": {},
   "outputs": [
    {
     "name": "stdout",
     "output_type": "stream",
     "text": [
      "Chi-squared statistic of NumOfProducts: 1503.1764709361314\n",
      "p-value of NumOfProducts: 0.0\n",
      "Degrees of freedom of NumOfProducts: 3\n",
      "expected_NumOfProducts frequencies table of NumOfProducts:  [[4046.38235294 1035.61764706]\n",
      " [3653.05042017  934.94957983]\n",
      " [ 211.79411765   54.20588235]\n",
      " [  47.77310924   12.22689076]] \n",
      "\n",
      "Exited            0     1\n",
      "NumOfProducts            \n",
      "1              3673  1409\n",
      "2              4240   348\n",
      "3                46   220\n",
      "4                 0    60 \n",
      "\n",
      "Exited                0         1\n",
      "NumOfProducts                    \n",
      "1              0.722747  0.277253\n",
      "2              0.924150  0.075850\n",
      "3              0.172932  0.827068\n",
      "4              0.000000  1.000000\n"
     ]
    }
   ],
   "source": [
    "# The NumOfProducts, obly has 1 - 4, we assume as Category\n",
    "\n",
    "# Perform chi-squared test\n",
    "chi2_NumOfProducts, p_NumOfProducts, dof_NumOfProducts, expected_NumOfProducts = stats.chi2_contingency(pd.crosstab(clean_data['NumOfProducts'], clean_data['Exited']))\n",
    "\n",
    "# Hitung jumlah churn (0) dan tidak churn (1) untuk setiap kategori NumOfProducts\n",
    "churn_counts = clean_data.groupby(['NumOfProducts', 'Exited']).size().unstack(fill_value=0)\n",
    "\n",
    "# # Hitung proporsi churn (yes) dari total jumlah data di setiap kategori \n",
    "churn_proportions = churn_counts.div(churn_counts.sum(axis=1), axis=0)\n",
    "\n",
    "print(\"Chi-squared statistic of NumOfProducts:\", chi2_NumOfProducts)\n",
    "print(\"p-value of NumOfProducts:\", p_NumOfProducts)\n",
    "print(\"Degrees of freedom of NumOfProducts:\", dof_NumOfProducts)\n",
    "print(\"expected_NumOfProducts frequencies table of NumOfProducts: \", expected_NumOfProducts, \"\\n\")\n",
    "print(churn_counts, \"\\n\")\n",
    "print(churn_proportions)"
   ]
  },
  {
   "cell_type": "markdown",
   "metadata": {},
   "source": [
    "**Insights:**\n",
    "\n",
    "From the data where the hypothesis are :\n",
    "\n",
    "H0 : \"There's no correlation between Number of Product and Churn Decision\"\n",
    "\n",
    "H1 : \"There's correlation between Number of Porduct and Churn Decission\"\n",
    "\n",
    "\n",
    "From the result we can see the p-value is practically zero, we reject the null hypothesis. This means that there is significant evidence to support the alternative hypothesis, indicating that there is indeed a correlation between the number of products and churn decision. The High values of the chi-square statistic which approximately 1503 indicates the strong correlation between the variables\n",
    "\n",
    "**it means H0 is rejected**\n",
    "\n",
    "Customers with 1 product have a churn rate of approximately 27.7%.\n",
    "Customers with 2 products have a churn rate of approximately 7.6%.\n",
    "Customers with 3 products have a churn rate of approximately 82.7%.\n",
    "Customers with 4 products have a churn rate of 100%.\n",
    "From this data, we have conclusions:\n",
    "\n",
    "Positive Correlation: There appears to be a positive correlation between the number of products and churn decision. As the number of products increases, the churn rate also increases. Customers with more products are more likely to churn compared to those with fewer products.\n",
    "\n",
    "Significant Impact: The extremely low p-value suggests that the relationship between the number of products and churn decision is statistically significant.\n",
    "\n",
    "**Customers with more products are at a higher risk of churning. Therefore, strategies aimed at retaining these customers should be prioritized. This might include personalized retention offers, enhanced customer service, or targeted marketing campaigns to increase customer engagement and loyalty. Conversely, customers with fewer products may exhibit higher retention rates, but efforts should still be made to ensure their satisfaction and loyalty to prevent churn.**"
   ]
  },
  {
   "cell_type": "markdown",
   "metadata": {},
   "source": [
    "Based on Credit Card Ownership"
   ]
  },
  {
   "cell_type": "code",
   "execution_count": 77,
   "metadata": {},
   "outputs": [
    {
     "name": "stdout",
     "output_type": "stream",
     "text": [
      "Chi-squared statistic of HasCrCard: 0.46866013287177055\n",
      "p-value of HasCrCard: 0.49360421666617627\n",
      "Degrees of freedom of HasCrCard: 1\n",
      "expected_HasCrCard frequencies table of HasCrCard:  [[2344.06722689  599.93277311]\n",
      " [5614.93277311 1437.06722689]] \n",
      "\n",
      "Exited        0     1\n",
      "HasCrCard            \n",
      "0          2331   613\n",
      "1          5628  1424 \n",
      "\n",
      "Exited            0         1\n",
      "HasCrCard                    \n",
      "0          0.791780  0.208220\n",
      "1          0.798071  0.201929\n"
     ]
    }
   ],
   "source": [
    "# Perform chi-squared test\n",
    "chi2_HasCrCard, p_HasCrCard, dof_HasCrCard, expected_HasCrCard = stats.chi2_contingency(pd.crosstab(clean_data['HasCrCard'], clean_data['Exited']))\n",
    "\n",
    "# Hitung jumlah churn (0) dan tidak churn (1) untuk setiap kategori HasCrCard\n",
    "churn_counts = clean_data.groupby(['HasCrCard', 'Exited']).size().unstack(fill_value=0)\n",
    "\n",
    "# # Hitung proporsi churn (yes) dari total jumlah data di setiap kategori kredit score\n",
    "churn_proportions = churn_counts.div(churn_counts.sum(axis=1), axis=0)\n",
    "\n",
    "print(\"Chi-squared statistic of HasCrCard:\", chi2_HasCrCard)\n",
    "print(\"p-value of HasCrCard:\", p_HasCrCard)\n",
    "print(\"Degrees of freedom of HasCrCard:\", dof_HasCrCard)\n",
    "print(\"expected_HasCrCard frequencies table of HasCrCard: \", expected_HasCrCard, \"\\n\")\n",
    "print(churn_counts, \"\\n\")\n",
    "print(churn_proportions)"
   ]
  },
  {
   "cell_type": "markdown",
   "metadata": {},
   "source": [
    "**Insights:**\n",
    "\n",
    "We have hypothesis where : \n",
    "\n",
    "H0 : \"There's no correlation between Credit Card ownership and Churn Decission\"\n",
    "\n",
    "H1 : \" There's correlation between Credit Card ownership and Churn Decission\"\n",
    "\n",
    "As we can se the number of p-value is higher than 0.05 and the number of chi-square statistic value alson indicates weak corellation between the two values. Thus, we can say that \n",
    "\n",
    "**There's no enough evidence to support the alternative hypotehsis is accepted, and have the correlation betwee the 2 variables. so the conclussion is H0 is Accepted**\n"
   ]
  },
  {
   "cell_type": "code",
   "execution_count": 78,
   "metadata": {},
   "outputs": [
    {
     "name": "stdout",
     "output_type": "stream",
     "text": [
      "Chi-squared statistic of IsActiveMember: 242.39269281108255\n",
      "p-value of IsActiveMember: 1.1830476712052914e-54\n",
      "Degrees of freedom of IsActiveMember: 1\n",
      "expected_IsActiveMember frequencies table of IsActiveMember:  [[3860.86344538  988.13655462]\n",
      " [4098.13655462 1048.86344538]] \n",
      "\n",
      "Exited             0     1\n",
      "IsActiveMember            \n",
      "0               3547  1302\n",
      "1               4412   735 \n",
      "\n",
      "Exited                 0         1\n",
      "IsActiveMember                    \n",
      "0               0.731491  0.268509\n",
      "1               0.857198  0.142802\n"
     ]
    }
   ],
   "source": [
    " # Perform chi-squared test\n",
    "chi2_IsActiveMember, p_IsActiveMember, dof_IsActiveMember, expected_IsActiveMember = stats.chi2_contingency(pd.crosstab(clean_data['IsActiveMember'], clean_data['Exited']))\n",
    "\n",
    "# Hitung jumlah churn (0) dan tidak churn (1) untuk setiap kategori IsActiveMember\n",
    "churn_counts = clean_data.groupby(['IsActiveMember', 'Exited']).size().unstack(fill_value=0)\n",
    "\n",
    "# # Hitung proporsi churn (yes) dari total jumlah data di setiap kategori kredit score\n",
    "churn_proportions = churn_counts.div(churn_counts.sum(axis=1), axis=0)\n",
    "\n",
    "print(\"Chi-squared statistic of IsActiveMember:\", chi2_IsActiveMember)\n",
    "print(\"p-value of IsActiveMember:\", p_IsActiveMember)\n",
    "print(\"Degrees of freedom of IsActiveMember:\", dof_IsActiveMember)\n",
    "print(\"expected_IsActiveMember frequencies table of IsActiveMember: \", expected_IsActiveMember, \"\\n\")\n",
    "print(churn_counts, \"\\n\")\n",
    "print(churn_proportions)"
   ]
  },
  {
   "cell_type": "markdown",
   "metadata": {},
   "source": [
    "**Insight:**\n",
    "\n",
    "We have hypothesis where : \n",
    "\n",
    "H0 : \"There's no correlation between Activity and Churn Decision\"\n",
    "\n",
    "H1 : \" There's correlation between Activity and Churn Decision\"\n",
    "\n",
    "As we can see from the calculation that p-value is close to 0 and it indicates that the variable is correlated significantly. and the chi-square statistic value shown high value that means the two variables are having strong correlation. thus, we can say that **H0 is rejected and H1 is accepted**\n",
    "\n",
    "**The churn rate for inactive members is approximately 26.9%, while the churn rate for active members is approximately 73.1%. This indicates a strong negative correlation between activity (IsActiveMember) and churn rate. Specifically, inactive members are more likely to churn compared to active members.**"
   ]
  },
  {
   "cell_type": "markdown",
   "metadata": {},
   "source": [
    "**Conclussion** \n"
   ]
  },
  {
   "cell_type": "markdown",
   "metadata": {},
   "source": [
    "The Goals is to reduce the churn rate by 10 % for the next quarter, by means if the last churn rate ratio is approximately 20% thus, the goal for the next quarter is **maximum 10%** churn rate from the actual customer total for next quarter. \n"
   ]
  },
  {
   "cell_type": "markdown",
   "metadata": {},
   "source": [
    "For the conclussion we'll be higlightin to the variables and values that contribute to the churn rate the most. \n",
    "\n",
    "1. From data that we've been analyze we can see that female has contributed most number of churn rate. Despite being a minority in the overall customer base, female customers have a higher churn rate compared to male customers. The data shows that 1139 out of 4542 (25.06%) female customers churned, whereas only 898 out of 5454 (16.45%) male customers churned. This suggests that female customers may be more likely to churn compared to male customers, indicating a potential need for targeted retention efforts within this demographic.\n",
    "\n",
    " \n",
    "2. Knowing the gender distribution among churned customers can help in designing targeted marketing strategies. For instance, if there are discernible differences in churn behavior between genders, marketing campaigns could be tailored accordingly to address the specific needs or preferences of male and female customers. Male and female customers may have different preferences for different products or services, which could account for the gender gap in churn rates. In order to better serve the demands of both male and female consumers, it can be helpful to analyze the kinds of goods and services that each gender prefers.\n",
    "\n",
    "\n",
    "3. The age group of 40-49 years shown the highest churn rate, with more than 800 customers churning. This indicates that individuals in their 40s may be particularly able to switching banks or discontinuing services, suggesting a need for targeted retention efforts within this demographic.\n",
    "\n",
    "\n",
    "4. Germany has the highest total number of churned customers (814), followed by France (810), and Spain (413). However, when considering the total customer base in each country, Germany has a smaller total number of customers compared to France and Spain. This indicates that the churn rate is relatively higher in Germany compared to France and Spain. We can suggest to implement more efforts and strategy in Germany Since its contribute a lot for the customer's churn number by  Implement targeted customer retention strategies specifically tailored for the German market, develop localized marketing campaigns that resonate with the German customer base,continuously monitor and track churn rates in Germany, as well as the effectiveness of any implemented strategies,evaluate the product or service offering in the German market to ensure it meets customer expectations and remains relevant and preferable.\n",
    "\n",
    "5. From the customer's balances perspective, as we can see fom the correlation test using chi-square method. the implication is that customers with higher balances have a higher churn rate compared to those with lower balances. This suggests a negative correlation between balance and churn decision: as the balance increases, the likelihood of churn also increases. Therefore, despite the significant association between balance and churn decision, it's important to note that the direction of this association is negative. This insight could inform targeted retention strategies for customers with higher balances to reduce churn rates and retain valuable customers\n",
    "\n",
    "\n",
    "6. From the number of product that customer's have, as we can see from the statistic test between its correlation with churn decision, customers with more products are at a higher risk of churning. Therefore, strategies aimed at retaining these customers should be prioritized. This might include personalized retention offers, enhanced customer service, or targeted marketing campaigns to increase customer engagement and loyalty. Conversely, customers with fewer products may exhibit higher retention rates, but efforts should still be made to ensure their satisfaction and loyalty to prevent churn.\n",
    "\n",
    "7. From the activity perspective, the churn rate for inactive members is approximately 26.9%, while the churn rate for active members is approximately 73.1%. This indicates a strong negative correlation between activity (IsActiveMember) and churn rate. Specifically, inactive members are more likely to churn compared to active members. It means, we need to develop strategies to develop the customer activity"
   ]
  },
  {
   "cell_type": "markdown",
   "metadata": {},
   "source": []
  },
  {
   "cell_type": "code",
   "execution_count": 79,
   "metadata": {},
   "outputs": [],
   "source": [
    "clean_data.to_csv('Churn_Modelling_cleaned.csv', index=False)"
   ]
  }
 ],
 "metadata": {
  "kernelspec": {
   "display_name": "Python 3",
   "language": "python",
   "name": "python3"
  },
  "language_info": {
   "codemirror_mode": {
    "name": "ipython",
    "version": 3
   },
   "file_extension": ".py",
   "mimetype": "text/x-python",
   "name": "python",
   "nbconvert_exporter": "python",
   "pygments_lexer": "ipython3",
   "version": "3.10.7"
  }
 },
 "nbformat": 4,
 "nbformat_minor": 2
}
